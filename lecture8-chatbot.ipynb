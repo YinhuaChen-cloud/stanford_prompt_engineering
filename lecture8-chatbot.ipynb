{
 "cells": [
  {
   "cell_type": "markdown",
   "id": "f864ccf1",
   "metadata": {},
   "source": [
    "# 8. 聊天机器人（Chatbot）\n",
    "\n",
    "关于大型语言模型的一个令人兴奋的事情是，你只需花费少量的精力，就可以使用它来构建自定义的聊天机器人。\n",
    "\n",
    "ChatGPT 的 Web 界面，是一种使用大型语言模型进行聊天的对话界面。但一个很酷的事情是，你也可以使用大型语言模型来构建你的自定义聊天机器人，可以扮演一个 AI 客服代理或餐厅的 AI 订单员的角色。在这个视频中，你将学习如何来做聊天机器人。\n",
    "\n",
    "我将更详细地描述 OpenAI 的聊天完成（Chat Completions）格式，然后你将自己构建一个聊天机器人。"
   ]
  },
  {
   "cell_type": "markdown",
   "id": "705ab21d",
   "metadata": {},
   "source": [
    "## 8.1 聊天格式的设计\n",
    "\n",
    "让我们开始吧。首先，我们将像往常一样设置 OpenAI Python 包。\n",
    "\n",
    "ChatGPT 这样的聊天模型，实际上被训练成将一系列消息作为输入，并返回模型生成的消息作为输出。因此，尽管聊天格式的设计是为了使这样的多轮对话变得容易而设计的，但我们在之前的视频中已经看到，它对于没有对话的单回合任务也同样有效。\n",
    "\n",
    "接下来，我们将定义两个辅助函数。"
   ]
  },
  {
   "cell_type": "code",
   "execution_count": null,
   "id": "1d73429a",
   "metadata": {},
   "outputs": [],
   "source": [
    "import openai\n",
    "import os\n",
    "from openai import OpenAI\n",
    "\n",
    "# 1. 根据环境变量获取 openai key\n",
    "from dotenv import load_dotenv, find_dotenv\n",
    "_ = load_dotenv(find_dotenv())\n",
    "\n",
    "openai.api_key = os.getenv('OPENAI_API_KEY') \n",
    "\n",
    "client = OpenAI()\n",
    "\n",
    "def get_completion(prompt, model=\"gpt-3.5-turbo\", temperature=0):\n",
    "    messages = [{\"role\": \"user\", \"content\": prompt}]\n",
    "    response = client.chat.completions.create(\n",
    "        model=model,\n",
    "        messages=messages,\n",
    "        temperature=temperature, # this is the degree of randomness of the model's output\n",
    "    )\n",
    "    return response.choices[0].message.content\n",
    "\n",
    "def get_completion_from_messages(messages, model=\"gpt-3.5-turbo\", temperature=0):\n",
    "    response = client.chat.completions.create(\n",
    "    model=model,\n",
    "    messages=messages,\n",
    "    temperature=temperature, # this is the degree of randomness of the model's output\n",
    "    )\n",
    "    return response.choices[0].message.content\n"
   ]
  },
  {
   "cell_type": "markdown",
   "id": "37eeb54d",
   "metadata": {},
   "source": [
    "一个就是我们在视频中一直使用的 get_completion 函数。但看一下，我们给出了一个提示，在这个函数内部，我们实际是将这个提示放入看起来像某种用户消息的内容中。这是因为 ChatGPT 模型是一个聊天模型，这意味着它被训练成接受一系列消息作为输入，然后返回模型生成的消息作为输出。所以用户消息是一种输入，然后助理（模型）的消息是输出。\n",
    "\n",
    "在这个视频中，我们将使用一个不同的辅助函数，而不是将单个的提示作为输入，并获得单个的输出结果。我们将传递一个消息列表，这些消息可以来自各种不同的角色。\n",
    "\n",
    "下面我来描述一下。这里有一个消息列表的例子。第一条消息是系统消息，它给出了一个总体指令，然后在这条消息之后，我们在用户和助理之间有几轮对话，这种对话通常会继续下去。"
   ]
  },
  {
   "cell_type": "code",
   "execution_count": null,
   "id": "ca58d39f",
   "metadata": {},
   "outputs": [],
   "source": [
    "messages = [ \n",
    "{'role':'system', 'content':'You are an assistant that speaks like Shakespeare.'}, \n",
    "{'role':'user', 'content':'tell me a joke'}, \n",
    "{'role':'assistant', 'content':'Why did the chicken cross the road'}, \n",
    "{'role':'user', 'content':'I don\\'t know'} ] "
   ]
  },
  {
   "cell_type": "markdown",
   "id": "bd41f8ff",
   "metadata": {},
   "source": [
    "如果你曾经使用过 ChatGPT 的 Web 界面，那么你输入的内容就是用户消息，然后 ChatGPT 输出的内容就是助理消息。\n",
    "\n",
    "系统消息有助于在某种程度上设置助理的行为和角色，它充当了对话的高级指令。因此，你可以将其视为在助理耳边窃窃私语，并引导它的响应，而用户并不知道系统的消息。所以，作为用户，如果你曾经使用过 ChatGPT，你可能不知道 ChatGPT 的系统消息中有什么，这正是我们的意图。\n",
    "\n",
    "系统消息的好处是，它为开发人员提供了一种构建对话框架的方法，而无需将请求本身作为对话的一部分。因此，你可以悄悄地引导助理，指导模型的回复，而不让用户意识到。\n",
    "\n",
    "现在让我们试着在对话中使用这些消息。我们将使用新的辅助函数，从消息中获取完成情况。我们将使用更高的温度值。"
   ]
  },
  {
   "cell_type": "code",
   "execution_count": null,
   "id": "f69f53e9",
   "metadata": {},
   "outputs": [],
   "source": [
    "response = get_completion_from_messages(messages, temperature=1)\n",
    "print(response) "
   ]
  },
  {
   "cell_type": "markdown",
   "id": "71d2aa50",
   "metadata": {},
   "source": [
    "系统消息说，你是一个说话像莎士比亚的助理，这是我们向助手描述它应该如何表现。然后第一条用户消息是，给我讲个笑话。然后下一个问题是，鸡为什么过马路？最后的用户信息是，我不知道。\n",
    "\n",
    "如果我们运行这个程序，系统的响应是：“去另一边”。\n",
    "\n",
    "to get to the other side!\n",
    "\n",
    "我们再来一次。这次的输出是：“去另一边，公平的先生/夫人，这是一个古老而经典的方法，永远不会失败。” 这就是我们莎士比亚式的回应。\n",
    "\n",
    "To get to the other side, fair sir/madam! 'Tis an olden classic that never fails.\n",
    "\n",
    "让我们再试一次。我想让它更清楚，让我们打印整个消息响应。\n",
    "\n",
    "{ \"content\": \"To get to the other side! Oh, that one always gets me.\", \"role\": \"assistant\" } To get to the other side! Oh, that one always gets me.\n",
    "\n",
    "为了更清楚，这个响应是一个助理消息，角色是助理，内容是消息本身。这就是这个辅助函数中发生的事情。我们只是传递了消息的内容。"
   ]
  },
  {
   "cell_type": "markdown",
   "id": "9b284992",
   "metadata": {},
   "source": [
    "## 8.2 上下文内容\n",
    "\n",
    "现在，让我们再举一个例子。\n",
    "\n",
    "这里我们的消息是，系统消息是“你是一个友好的聊天机器人“，第一条用户消息是，“嗨，我的名字是 Isa”。我们想获得第一条用户信息，所以，让我们执行第一条助理消息。"
   ]
  },
  {
   "cell_type": "code",
   "execution_count": null,
   "id": "4468a634",
   "metadata": {},
   "outputs": [],
   "source": [
    "messages = [ \n",
    "{'role':'system', 'content':'You are friendly chatbot.'}, \n",
    "{'role':'user', 'content':'Hi, my name is Isa'} ]\n",
    "response = get_completion_from_messages(messages, temperature=1)\n",
    "print(response) "
   ]
  },
  {
   "cell_type": "markdown",
   "id": "cfec06b0",
   "metadata": {},
   "source": [
    "第一条消息是，“”你好 Isa，很高兴认识你。今天我可以帮助的吗？“\n",
    "\n",
    "{ \"content\": \"Hello Isa! It is nice to meet you. How can I assist you today?\", \"role\": \"assistant\" } Hello Isa! It is nice to meet you. How can I assist you today?\n",
    "\n",
    "让我们再试试另一个例子。\n",
    "\n",
    "这里我们的消息是，系统消息是，“你是一个友好的聊天机器人”，第一条用户消息是，“是的，你能提醒我的名字是什么吗？”。"
   ]
  },
  {
   "cell_type": "code",
   "execution_count": null,
   "id": "6c943a3a",
   "metadata": {},
   "outputs": [],
   "source": [
    "messages = [ \n",
    "{'role':'system', 'content':'You are friendly chatbot.'}, \n",
    "{'role':'user', 'content':'Yes, can you remind me, What is my name?'} ]\n",
    "response = get_completion_from_messages(messages, temperature=1)\n",
    "print(response) "
   ]
  },
  {
   "cell_type": "markdown",
   "id": "6c724790",
   "metadata": {},
   "source": [
    "让我们得到输出响应。\n",
    "\n",
    "I'm sorry, but as an AI language model, I do not have access to information about your personal details like your name or any other kind of personal information. However, I am here to assist you with any general queries or have a friendly conversation.\n",
    "\n",
    "正如你所看到的，模型实际上并不知道我的名字。因此，与语言模型的每次对话都是一次独立的交互，这意味着你必须提供所有相关的信息，以便模型在当前对话中使用。\n",
    "\n",
    "如果你想让模型从前期的对话中引用内容，或者记住前期的对话内容，你就必须在模型的输入中提供前期的交流内容。我们将把这称为上下文。让我们试试这个。"
   ]
  },
  {
   "cell_type": "code",
   "execution_count": null,
   "id": "5a173684",
   "metadata": {},
   "outputs": [],
   "source": [
    "messages = [ \n",
    "{'role':'system', 'content':'You are friendly chatbot.'},\n",
    "{'role':'user', 'content':'Hi, my name is Isa'},\n",
    "{'role':'assistant', 'content': \"Hi Isa! It's nice to meet you. \\\n",
    "Is there anything I can help you with today?\"},\n",
    "{'role':'user', 'content':'Yes, you can remind me, What is my name?'} ]\n",
    "response = get_completion_from_messages(messages, temperature=1)\n",
    "print(response) "
   ]
  },
  {
   "cell_type": "markdown",
   "id": "3d9b7f04",
   "metadata": {},
   "source": [
    "现在我们已经给出了模型需要的上下文。嗯，这是我在之前的消息中的名字，我们会问同样的问题，会问“我的名字是什么”。\n",
    "\n",
    "Your name is Isa. \n",
    "\n",
    "模型能够作出响应，因为它在我们输入的消息列表中，拥有所有上下文内容。\n",
    "\n",
    "所以现在你要建立自己的聊天机器人了。"
   ]
  },
  {
   "cell_type": "markdown",
   "id": "2daad2c1",
   "metadata": {},
   "source": [
    "## 8.3 点餐机器人（OrderBot）\n",
    "\n",
    "这个聊天机器人被称为 OrderBot（点餐机器人）。\n",
    "\n",
    "为了构建这个 OrderBot，我们将自动收集用户的提示和助理的响应。它将在披萨店接受订单，所以首先我们将定义这个辅助函数。辅助函数将收集我们的用户信息，这样我们就不需要像上面那样手工输入信息。这将从下面建立的用户界面中收集提示，然后将其追加到一个称为“上下文（context）”的列表中，然后它每次都会调用这个带有上下文的模型。然后模型响应也会被添加到上下文中，所以模型消息的被添加到上下文中，用户消息也被添加到上下文中，以此类推，所以它越来越长。通过这种方式，模型就获得了它所需要的信息来决定下一步要做什么。"
   ]
  },
  {
   "cell_type": "code",
   "execution_count": null,
   "id": "3faaa8c4",
   "metadata": {},
   "outputs": [],
   "source": [
    "import panel as pn # GUI\n",
    "\n",
    "def collect_messages(_):\n",
    "    prompt = inp.value_input\n",
    "    inp.value = ''\n",
    "    context.append({'role':'user', 'content':f\"{prompt}\"})\n",
    "    response = get_completion_from_messages(context) \n",
    "    context.append({'role':'assistant', 'content':f\"{response}\"})\n",
    "    panels.append(\n",
    "    pn.Row('User:', pn.pane.Markdown(prompt, width=600)))\n",
    "    panels.append(\n",
    "    pn.Row('Assistant:', pn.pane.Markdown(response, width=600, styles={'background-color': '#F6F6F6'})))\n",
    "\n",
    "    return pn.Column(*panels) "
   ]
  },
  {
   "cell_type": "markdown",
   "id": "337ec54d",
   "metadata": {},
   "source": [
    "现在我们将设置并运行这个用户界面（UI）来显示订单机器人。这里是上下文，它包含了包括菜单的系统消息。请注意，每次我们调用语言模型时，我们都会使用相同的上下文，并且这个上下文会随着时间的推移而不断构建。"
   ]
  },
  {
   "cell_type": "code",
   "execution_count": null,
   "id": "9d0a4780",
   "metadata": {},
   "outputs": [],
   "source": [
    "pn.extension()\n",
    "\n",
    "panels = [] # collect display \n",
    "\n",
    "context = [ {'role':'system', 'content':\"\"\"\n",
    "You are OrderBot, an automated service to collect orders for a pizza restaurant. \\\n",
    "You first greet the customer, then collects the order, \\\n",
    "and then asks if it's a pickup or delivery. \\\n",
    "You wait to collect the entire order, then summarize it and check for a final \\\n",
    "time if the customer wants to add anything else. \\\n",
    "If it's a delivery, you ask for an address. \\\n",
    "Finally you collect the payment.\\\n",
    "Make sure to clarify all options, extras and sizes to uniquely \\\n",
    "identify the item from the menu.\\\n",
    "You respond in a short, very conversational friendly style. \\\n",
    "The menu includes \\\n",
    "pepperoni pizza 12.95, 10.00, 7.00 \\\n",
    "cheese pizza 10.95, 9.25, 6.50 \\\n",
    "eggplant pizza 11.95, 9.75, 6.75 \\\n",
    "fries 4.50, 3.50 \\\n",
    "greek salad 7.25 \\\n",
    "Toppings: \\\n",
    "extra cheese 2.00, \\\n",
    "mushrooms 1.50 \\\n",
    "sausage 3.00 \\\n",
    "canadian bacon 3.50 \\\n",
    "AI sauce 1.50 \\\n",
    "peppers 1.00 \\\n",
    "Drinks: \\\n",
    "coke 3.00, 2.00, 1.00 \\\n",
    "sprite 3.00, 2.00, 1.00 \\\n",
    "bottled water 5.00 \\\n",
    "\"\"\"} ] # accumulate messages\n",
    "\n",
    "\n",
    "inp = pn.widgets.TextInput(value=\"Hi\", placeholder='Enter text here…')\n",
    "button_conversation = pn.widgets.Button(name=\"Chat!\")\n",
    "\n",
    "interactive_conversation = pn.bind(collect_messages, button_conversation)\n",
    "\n",
    "dashboard = pn.Column(\n",
    " inp,\n",
    " pn.Row(button_conversation),\n",
    " pn.panel(interactive_conversation, loading_indicator=True, height=300),\n",
    ")\n",
    "\n",
    "dashboard "
   ]
  },
  {
   "cell_type": "markdown",
   "id": "5e4e3126",
   "metadata": {},
   "source": [
    "让我们运行这个聊天的用户界面。\n",
    "\n",
    "![chatbot](./img/8-1.jpg)\n",
    "\n",
    "我说：嗨，我想点一份披萨。\n",
    "\n",
    "助理说：太好了，你想点什么披萨？我们有意大利香肠、奶酪和茄子披萨。\n",
    "\n",
    "我说：它们多少钱？\n",
    "\n",
    "助理：（各种比萨的价格）\n",
    "\n",
    "太好了，助理告诉了我们比萨的价格。我想我觉得可以点中号的茄子披萨。所以，正如你所能想象的，我们可以继续这个对话。\n",
    "\n",
    "让我们看看我们在系统消息中放了什么。\n",
    "\n",
    "你是订单机器人，为一家披萨店收集订单的自动化服务，你首先要问候顾客，然后接受订单，然后问是自取还是配送。你等待收集整个订单，然后进行汇总，最后检查客户是否还想添加其他东西。如果是配送，你可以询问配送地址。最后，你收到付款，确保清晰地描述所有选项、附加服务、额外费用和尺寸，以便从菜单中精确地识别项目。你以简短的、健谈的、友好的风格来回答客户。系统信息还包括菜单，这里我们有全部的菜单。\n",
    "\n",
    "让我们回到我们的对话中，看看助理是否一直在遵循指示。\n",
    "\n",
    "很好，助理问我们是否需要配料，我们在系统信息中指定了这一点。我回答我们不需要额外的配料。\n",
    "\n",
    "当然可以。还有什么想要点的吗？嗯，我来点水。事实上，我输入的是薯条。\n",
    "\n",
    "小份还是大份？很好，因为我们在系统消息中要求助理说明额外配料。\n",
    "\n",
    "这样你就明白了，你可以随意自己玩这个过程。你可以暂停视频，在左边的 Notebook 上运行这个点餐机器人。\n",
    "\n",
    "现在我们可以要求模型创建一个 JSON 摘要，可以在对话的基础上生成订单，将其发送到订单系统。所以我们现在要加上另一条系统消息，这是一条指令，要求创建一个关于以上对话中食物订单的 JSON 摘要，逐项列出每种食物的价格，字段应该是一个披萨，包括配菜，两张配料列表，三张饮料列表，四个面列表，最后是总价格。你也可以在这里使用用户消息，这不一定是系统消息。"
   ]
  },
  {
   "cell_type": "code",
   "execution_count": null,
   "id": "24871f6d",
   "metadata": {},
   "outputs": [],
   "source": [
    "messages = context.copy()\n",
    "messages.append(\n",
    "{'role':'system', 'content':'create a json summary of the previous food order. Itemize the price for each item\\\n",
    " The fields should be 1) pizza, include size 2) list of toppings 3) list of drinks, include size 4) list of sides include size 5)total price '}, \n",
    ")\n",
    " #The fields should be 1) pizza, price 2) list of toppings 3) list of drinks, include size include price 4) list of sides include size include price, 5)total price '}, \n",
    "\n",
    "response = get_completion_from_messages(messages, temperature=0)\n",
    "print(response) "
   ]
  },
  {
   "cell_type": "markdown",
   "id": "6410dd04",
   "metadata": {},
   "source": [
    "让我们来执行一下。\n",
    "\n",
    "注意，在这种情况下，我们使用较低的温度参数。因为对于这些类型的任务，我们希望输出是相当可预测的。对于一个对话式助理，你可能希望使用更高的温度值。但对这种点餐机器人，我会使用较低的温度值，因为对于客户助理聊天机器人来说，我们希望输出是更加可预测的。\n",
    "\n",
    "于是，这里我们得到订单的摘要。如果需要，我们可以将其提交给订单系统。这就是我们所需要的。\n",
    "\n",
    "Sure, here's a JSON summary of the order:\n",
    "```\n",
    "{\n",
    " \"pizza\": [\n",
    " {\n",
    " \"type\": \"pepperoni\",\n",
    " \"size\": \"large\",\n",
    " \"price\": 12.95\n",
    " },\n",
    " {\n",
    " \"type\": \"cheese\",\n",
    " \"size\": \"medium\",\n",
    " \"price\": 9.25\n",
    " }\n",
    " ],\n",
    " \"toppings\": [\n",
    " {\n",
    " \"type\": \"extra cheese\",\n",
    " \"price\": 2.00\n",
    " },\n",
    " {\n",
    " \"type\": \"mushrooms\",\n",
    " \"price\": 1.50\n",
    " }\n",
    " ],\n",
    " \"drinks\": [\n",
    " {\n",
    " \"type\": \"coke\",\n",
    " \"size\": \"large\",\n",
    " \"price\": 3.00\n",
    " },\n",
    " {\n",
    " \"type\": \"sprite\",\n",
    " \"size\": \"small\",\n",
    " \"price\": 2.00\n",
    " }\n",
    " ],\n",
    " \"sides\": [\n",
    " {\n",
    " \"type\": \"fries\",\n",
    " \"size\": \"large\",\n",
    " \"price\": 4.50\n",
    " }\n",
    " ],\n",
    " \"total_price\": 35.20\n",
    "}\n",
    "```\n",
    "\n",
    "好的，现在你已经建立了自己的点餐聊天机器人。\n",
    "\n",
    "你可以自行地定制，可以使用系统消息来改变聊天机器人的行为，让它扮演具有不同知识的不同角色。"
   ]
  }
 ],
 "metadata": {
  "kernelspec": {
   "display_name": "Python 3",
   "language": "python",
   "name": "python3"
  },
  "language_info": {
   "codemirror_mode": {
    "name": "ipython",
    "version": 3
   },
   "file_extension": ".py",
   "mimetype": "text/x-python",
   "name": "python",
   "nbconvert_exporter": "python",
   "pygments_lexer": "ipython3",
   "version": "3.8.10"
  }
 },
 "nbformat": 4,
 "nbformat_minor": 5
}
