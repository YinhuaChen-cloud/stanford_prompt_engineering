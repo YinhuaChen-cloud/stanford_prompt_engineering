{
 "cells": [
  {
   "cell_type": "markdown",
   "id": "f864ccf1",
   "metadata": {},
   "source": [
    "# 3. 迭代（Iterative）\n",
    "\n",
    "有一个好的迭代过程能不断改进你的提示，那么你就能找到对任务实现效果较好的提示词。\n",
    "\n",
    "提示词在第一次是否起作用并不重要，最重要的是获得适用于应用程序的提示的过程。\n",
    "\n",
    "让我们进入代码，我向你展示一些框架，让你思考如何迭代地开发提示。\n"
   ]
  },
  {
   "cell_type": "markdown",
   "id": "adb76b87",
   "metadata": {},
   "source": [
    "## 3.1 提示词的迭代开发\n",
    "\n",
    "如果你和我一起上过机器学习课，你可能看到我使用这样的一张图。我们在机器学习开发中通常会有一个想法，然后实现它。编写代码，获取数据，训练你的模型，这会给你一个实验结果。\n",
    "\n",
    "然后，你可以查看输出，也许进行错误分析，找出它在什么地方工作或不工作，然后甚至可能改变你要解决什么问题或如何处理的想法，然后改变你的实施方案，运行另一个实验等等，如此反复迭代，以获得一个有效的机器学习模型。如果你对机器学习不熟悉，没有见过这张图，也不要担心，这对本课程的其它余部分来说并不重要。\n",
    "\n",
    "![iterative](./img/3-1.png)"
   ]
  },
  {
   "cell_type": "markdown",
   "id": "0b9875d2",
   "metadata": {},
   "source": [
    "但是，当你使用 LLM 开发应用程序的编写提示时，这个过程可以说非常相似。你对自己想做什么、想完成的任务有一个想法，然后你就可以初步尝试编写，希望能有一个清晰和具体的提示，如果合适的话，会给系统思考的时间，然后你就可以运行它，看看会得到什么结果。\n",
    "\n",
    "如果第一次的效果不够好，那么就需要反复迭代的过程来搞清楚为什么指令不够清晰，为什么它没有给算法足够的时间思考，这样你就可以完善想法，完善提示。在此基础上进行多次循环，直到你最终得到一个适用于你的应用程序的提示。\n",
    "\n",
    "这也是为什么我个人没有那么关注网络上那些30个完美提示词的文章，因为我认为可能没有一个完美的提示来适用于世间万物。重要的是，你要有一个迭代过程，用来为你的特定应用挖掘出良好的提示。\n",
    "\n",
    "让我们一起来看看代码示例。这里有上节视频中你所看到的初始代码，导入了 openai 和 os，然后我们得到 OpenAI 的 API key，这是辅助函数 get_completion()。\n"
   ]
  },
  {
   "cell_type": "code",
   "execution_count": null,
   "id": "5762afae",
   "metadata": {},
   "outputs": [],
   "source": [
    "import openai\n",
    "import os\n",
    "from openai import OpenAI\n",
    "\n",
    "# 1. 根据环境变量获取 openai key\n",
    "from dotenv import load_dotenv, find_dotenv\n",
    "_ = load_dotenv(find_dotenv())\n",
    "\n",
    "openai.api_key = os.getenv('OPENAI_API_KEY') \n",
    "\n",
    "client = OpenAI()\n",
    "\n",
    "# 2. 定义 get_completion 方法\n",
    "def get_completion(instructions, prompt, model=\"gpt-3.5-turbo\"):\n",
    "    response = client.responses.create(\n",
    "        model=model,\n",
    "        instructions=instructions,\n",
    "        input=prompt,\n",
    "        temperature=0, # this is the degree of randomness of the model's output\n",
    "    )\n",
    "    return response.output_text"
   ]
  },
  {
   "cell_type": "markdown",
   "id": "97156951",
   "metadata": {},
   "source": [
    "在这个视频中，我将使用\"“总结椅子情况介绍”\"的任务作为运行示例。我把它粘贴在这里，你可以随时暂停视频，在 Notebook 上仔细阅读这些代码。"
   ]
  },
  {
   "cell_type": "code",
   "execution_count": null,
   "id": "3e2c8da2",
   "metadata": {},
   "outputs": [],
   "source": [
    "fact_sheet_chair = \"\"\"\n",
    "OVERVIEW\n",
    "- Part of a beautiful family of mid-century inspired office furniture, \n",
    "including filing cabinets, desks, bookcases, meeting tables, and more.\n",
    "- Several options of shell color and base finishes.\n",
    "- Available with plastic back and front upholstery (SWC-100) \n",
    "or full upholstery (SWC-110) in 10 fabric and 6 leather options.\n",
    "- Base finish options are: stainless steel, matte black, \n",
    "gloss white, or chrome.\n",
    "- Chair is available with or without armrests.\n",
    "- Suitable for home or business settings.\n",
    "- Qualified for contract use.\n",
    "\n",
    "CONSTRUCTION\n",
    "- 5-wheel plastic coated aluminum base.\n",
    "- Pneumatic chair adjust for easy raise/lower action.\n",
    "\n",
    "DIMENSIONS\n",
    "- WIDTH 53 CM | 20.87”\n",
    "- DEPTH 51 CM | 20.08”\n",
    "- HEIGHT 80 CM | 31.50”\n",
    "- SEAT HEIGHT 44 CM | 17.32”\n",
    "- SEAT DEPTH 41 CM | 16.14”\n",
    "\n",
    "OPTIONS\n",
    "- Soft or hard-floor caster options.\n",
    "- Two choices of seat foam densities: \n",
    " medium (1.8 lb/ft3) or high (2.8 lb/ft3)\n",
    "- Armless or 8 position PU armrests \n",
    "\n",
    "MATERIALS\n",
    "SHELL BASE GLIDER\n",
    "- Cast Aluminum with modified nylon PA6/PA66 coating.\n",
    "- Shell thickness: 10 mm.\n",
    "SEAT\n",
    "- HD36 foam\n",
    "\n",
    "COUNTRY OF ORIGIN\n",
    "- Italy\n",
    "\"\"\" \n"
   ]
  },
  {
   "cell_type": "markdown",
   "id": "adde0d74",
   "metadata": {},
   "source": [
    "这是有一张椅子的说明书，上面写着它的灵感来自于一个华丽的中世纪家族，还有结构，尺寸，选项，材料，来自意大利，等等。所以，假设你想拿着这份说明书，帮助营销团队为在线零售网站编写一份描述。\n",
    "\n",
    "然后我们会有如下的提示，我把上节课的提示策略直接粘贴过来，所以我在这里的提示说，你的任务是根据技术信息表，帮助营销团队为零售网站创建描述，编写一个产品描述，等等。这是我第一次尝试向大语言模型解释任务。\n"
   ]
  },
  {
   "cell_type": "code",
   "execution_count": null,
   "id": "62cf4672",
   "metadata": {},
   "outputs": [],
   "source": [
    "\n",
    "# 3. 使用模型\n",
    "instructions=f\"\"\"\n",
    "Your task is to help a marketing team create a \n",
    "description for a retail website of a product based \n",
    "on a technical fact sheet.\n",
    "\n",
    "Write a product description based on the information \n",
    "provided in the technical specifications delimited by \n",
    "triple backticks.\n",
    "\"\"\"\n",
    "\n",
    "prompt = f\"\"\"\n",
    "Technical specifications: ```{fact_sheet_chair}```\n",
    "\"\"\"\n",
    "\n",
    "response = get_completion(instructions, prompt)\n",
    "\n",
    "print(response) \n",
    "\n",
    "\n"
   ]
  },
  {
   "cell_type": "markdown",
   "id": "d5745fde",
   "metadata": {},
   "source": [
    "这需要几秒钟的时间运行，然后我们得到了如下的预期结果。\n",
    "\n",
    "Introducing the SWC-100/SWC-110 Office Chair - a stunning addition to our mid-century inspired office furniture collection. This chair is not just a piece of furniture; it's a statement of style and functionality.\n",
    "\n",
    "Designed to complement your workspace, the SWC-100/SWC-110 Office Chair comes in a variety of shell colors and base finishes, allowing you to customize it to suit your taste. Choose between plastic back and front upholstery or full upholstery in a range of fabric and leather options. The base finish options include stainless steel, matte black, gloss white, or chrome, giving you the flexibility to match your existing decor.\n",
    "\n",
    "Crafted for both home and business settings, this chair is built for comfort and durability. The 5-wheel plastic coated aluminum base ensures stability, while the pneumatic chair adjust feature allows for easy height adjustment.\n",
    "\n",
    "With dimensions of 53 cm in width, 51 cm in depth, and 80 cm in height, this chair provides ample seating space. The seat height is 44 cm, and the seat depth is 41 cm, offering ergonomic support for long hours of work.\n",
    "\n",
    "Customize your chair further with options like soft or hard-floor casters, choice of seat foam densities (medium or high), and the option of armless design or 8 position PU armrests.\n",
    "\n",
    "Constructed with high-quality materials, including cast aluminum with modified nylon coating for the shell base glider and HD36 foam for the seat, this chair is designed to last.\n",
    "\n",
    "Elevate your workspace with the SWC-100/SWC-110 Office Chair, made in Italy to bring a touch of sophistication to your environment. Experience the perfect blend of style, comfort, and functionality with this exceptional piece of furniture."
   ]
  },
  {
   "cell_type": "markdown",
   "id": "9f0d1602",
   "metadata": {},
   "source": [
    "看起来这已经完成了一个很好的描述，介绍了一把令人惊叹的中世纪风格的办公椅、完美的补充，等等。它做得很好，正是按照我的要求，从技术说明书开始，写一份产品描述。但我发现这个内容真是太长了，也许我们希望它稍微简短一点。\n",
    "\n",
    "所以我有了一个想法，我写了一个提示，得到了一个结果。"
   ]
  },
  {
   "cell_type": "markdown",
   "id": "f8b40685",
   "metadata": {},
   "source": [
    "## 3.2 控制输出的长度\n",
    "\n",
    "我对它不是很满意，因为它太长了，所以我要让提示更加清晰，并说最多使用50个单词，来更清楚地要求所需的长度。"
   ]
  },
  {
   "cell_type": "code",
   "execution_count": null,
   "id": "c1691779",
   "metadata": {},
   "outputs": [],
   "source": [
    "\n",
    "# 3. 使用模型\n",
    "instructions=f\"\"\"\n",
    "Your task is to help a marketing team create a \n",
    "description for a retail website of a product based \n",
    "on a technical fact sheet.\n",
    "\n",
    "Write a product description based on the information \n",
    "provided in the technical specifications delimited by \n",
    "triple backticks.\n",
    "\n",
    "Use at most 50 words.\n",
    "\"\"\"\n",
    "\n",
    "prompt = f\"\"\"\n",
    "Technical specifications: ```{fact_sheet_chair}```\n",
    "\"\"\"\n",
    "\n",
    "response = get_completion(instructions, prompt)\n",
    "\n",
    "print(response) \n"
   ]
  },
  {
   "cell_type": "markdown",
   "id": "7d2c91c8",
   "metadata": {},
   "source": [
    "然后我们再运行一次。好的，这看起来像是一个更好的简短描述，介绍了一款中世纪风格的办公椅，既时尚又实用等等。不错。\n",
    "\n",
    "预期输出：\n",
    "\n",
    "Introducing our versatile mid-century office chair, designed for both home and business use. Customize your comfort with various upholstery options, base finishes, and seat foam densities. With a durable aluminum base and Italian craftsmanship, this chair combines style and functionality effortlessly."
   ]
  },
  {
   "cell_type": "markdown",
   "id": "c50027b4",
   "metadata": {},
   "source": [
    "我再来检查一下这段内容的长度。"
   ]
  },
  {
   "cell_type": "code",
   "execution_count": null,
   "id": "06372332",
   "metadata": {},
   "outputs": [],
   "source": [
    "words_list = response.split(' ')\n",
    "\n",
    "len(words_list) "
   ]
  },
  {
   "cell_type": "markdown",
   "id": "b1b079e4",
   "metadata": {},
   "source": [
    "我把模型的答复拆开来，然后打印出长度，它是41个单词。这个大语言模型还不错，但它不太擅长遵循非常精确的单词计数的指令。有时它会输出60到65个单词之类的内容，但也在合理范围之内。\n",
    "\n",
    "让我们再做一遍。你可以尝试不同的方法，告诉大语言模型最多使用三个句子。这些都是告诉模型你想要的输出长度的不同方法。这次模型的输出结果，有三个句子，看起来做得很好。\n",
    "\n",
    "我也看到人们有时会做一些事情，比如最多使用280个字符。大型语言模型使用一种称为标记器解释文本，他们在计算字符方面往往表现平平。让我们看看，模型的输出是281个字符，这个结果已经非常接近了。而通常情况下，一个大语言模型对字符的控制是无法做到这样精确的，但是可以用不同的方式来控制输出的长度。"
   ]
  },
  {
   "cell_type": "markdown",
   "id": "72298460",
   "metadata": {},
   "source": [
    "## 3.3 提取特定的细节\n",
    "\n",
    "当我们继续为我们的网站完善这段文字时，我们可能会决定，天哪，这个网站不是直接向消费者销售，它实际上旨在向家具零售商销售家具，他们更关心椅子的技术细节和材料。在这种情况下，你可以接受这个提示，然后说，我想修改这个提示，使其在技术细节上更准确。\n",
    "\n",
    "我要说的是，这个描述是为家具零售商准备的，所以它应该是技术性的，重点关注材料、产品和结构。于是我将提示修改如下。\n"
   ]
  },
  {
   "cell_type": "code",
   "execution_count": null,
   "id": "33e01c27",
   "metadata": {},
   "outputs": [],
   "source": [
    "# 3. 使用模型\n",
    "instructions=f\"\"\"\n",
    "Your task is to help a marketing team create a \n",
    "description for a retail website of a product based \n",
    "on a technical fact sheet.\n",
    "\n",
    "Write a product description based on the information \n",
    "provided in the technical specifications delimited by \n",
    "triple backticks.\n",
    "\n",
    "The description is intended for furniture retailers, \n",
    "so should be technical in nature and focus on the \n",
    "materials the product is constructed from.\n",
    "\n",
    "Use at most 50 words.\n",
    "\"\"\"\n",
    "\n",
    "prompt = f\"\"\"\n",
    "Technical specifications: ```{fact_sheet_chair}```\n",
    "\"\"\"\n",
    "\n",
    "response = get_completion(instructions, prompt)\n",
    "\n",
    "print(response) \n",
    "\n"
   ]
  },
  {
   "cell_type": "markdown",
   "id": "2d700638",
   "metadata": {},
   "source": [
    "好吧，让我们来看看。预期输出：\n",
    "\n",
    "Introducing our versatile mid-century office chair, crafted with precision and style. The seat features high-density HD36 foam for comfort, while the shell base glider is constructed from durable cast aluminum with a modified nylon coating. Available in various finishes and upholstery options, this Italian-designed chair is perfect for any setting.\n"
   ]
  },
  {
   "cell_type": "markdown",
   "id": "e82f82bb",
   "metadata": {},
   "source": [
    "不错。这次写着，涂层铝底座和气动座椅，优质材料。因此，通过更改提示，你可以让它更多地关注特定的特征，提取你想要的特定的细节特征。\n",
    "\n",
    "进一步地，我可能还会决定，希望在描述的最后包括产品 ID。例如这把椅子的两个产品，SWC 110和SWC 100。以此，我可以进一步改进这个提示，让它给我产品的 ID。我可以在描述的末尾添加这样的指令：在技术规范中，用 7个字符来描述每一个产品 ID。"
   ]
  },
  {
   "cell_type": "code",
   "execution_count": null,
   "id": "6fbeb81b",
   "metadata": {},
   "outputs": [],
   "source": [
    "# 3. 使用模型\n",
    "instructions=f\"\"\"\n",
    "Your task is to help a marketing team create a \n",
    "description for a retail website of a product based \n",
    "on a technical fact sheet.\n",
    "\n",
    "Write a product description based on the information \n",
    "provided in the technical specifications delimited by \n",
    "triple backticks.\n",
    "\n",
    "The description is intended for furniture retailers, \n",
    "so should be technical in nature and focus on the \n",
    "materials the product is constructed from.\n",
    "\n",
    "At the end of the description, include every 7-character \n",
    "Product ID in the technical specification.\n",
    "\n",
    "Use at most 50 words.\n",
    "\"\"\"\n",
    "\n",
    "prompt = f\"\"\"\n",
    "Technical specifications: ```{fact_sheet_chair}```\n",
    "\"\"\"\n",
    "\n",
    "response = get_completion(instructions, prompt)\n",
    "\n",
    "print(response) \n"
   ]
  },
  {
   "cell_type": "markdown",
   "id": "0aefc7f2",
   "metadata": {},
   "source": [
    "让我们运行它，看看会发生什么。预期结果：\n",
    "\n",
    "Introducing our versatile office chair, part of a stylish mid-century furniture collection. Choose from various shell colors and base finishes, with options for upholstery in fabric or leather. Constructed with a durable aluminum base and high-density foam seat for comfort. Perfect for home or office use. Product IDs: SWC-100, SWC-110.\n",
    "\n",
    "它说，让我介绍中世纪风格的办公椅，外壳颜色，塑料涂层铝基底座，实用，一些选项，还有两个产品 ID 。所以这看起来很不错。\n",
    "\n",
    "你刚才所看到的，就是一个简短的迭代开发示例。许多开发人员将会经历这样的迭代开发过程。\n",
    "\n",
    "在上一个视频中 Yisa 分享了一些最佳实践。我通常会牢记这样的最佳实践，做到清晰和具体，必要时给模型时间思考。在这些原则的基础上，我们需要尝试编写提示，看看会发生什么，然后从这里开始反复迭代、完善提示，以越来越接近你需要的结果。在很多程序中使用的成功的提示语，都是在这样的迭代过程中得到的。\n"
   ]
  },
  {
   "cell_type": "markdown",
   "id": "989e352c",
   "metadata": {},
   "source": [
    "## 3.4 输出 HTML 格式\n",
    "\n",
    "为了更加有趣，我给你展示一个更复杂的提示示例，它可能会让你更加了解 ChatGPT 的功能。\n",
    "\n",
    "我只是在这里添加了一些额外的指令：在描述之后，包括一个给出产品尺寸的表格，然后将所有内容格式化为 HTML。你最终会得到这样的提示，我想可能不会有谁第一次就写出这样准确的提示语，让系统处理一个信息表。只有在多次迭代之后，才会出现这样的提示。\n"
   ]
  },
  {
   "cell_type": "code",
   "execution_count": null,
   "id": "9b6dcc2c",
   "metadata": {},
   "outputs": [],
   "source": [
    "# 3. 使用模型\n",
    "instructions=f\"\"\"\n",
    "Your task is to help a marketing team create a \n",
    "description for a retail website of a product based \n",
    "on a technical fact sheet.\n",
    "\n",
    "Write a product description based on the information \n",
    "provided in the technical specifications delimited by \n",
    "triple backticks.\n",
    "\n",
    "The description is intended for furniture retailers, \n",
    "so should be technical in nature and focus on the \n",
    "materials the product is constructed from.\n",
    "\n",
    "At the end of the description, include every 7-character \n",
    "Product ID in the technical specification.\n",
    "\n",
    "After the description, include a table that gives the \n",
    "product's dimensions. The table should have two columns.\n",
    "In the first column include the name of the dimension. \n",
    "In the second column include the measurements in inches only.\n",
    "\n",
    "Give the table the title 'Product Dimensions'.\n",
    "\n",
    "Format everything as HTML that can be used in a website. \n",
    "Place the description in a <div> element.\n",
    "\"\"\"\n",
    "\n",
    "prompt = f\"\"\"\n",
    "Technical specifications: ```{fact_sheet_chair}```\n",
    "\"\"\"\n",
    "\n",
    "response = get_completion(instructions, prompt)\n",
    "\n",
    "print(response) \n",
    "\n"
   ]
  },
  {
   "cell_type": "markdown",
   "id": "814a33e0",
   "metadata": {},
   "source": [
    "让我们再次运行，这次预期输出了一些 HTML语句。\n",
    "\n",
    "让我们显示 HTML，看看这是否是有效的HTML，看看它是否有效。我也不知道它是否能工作，让我们看看。"
   ]
  },
  {
   "cell_type": "code",
   "execution_count": null,
   "id": "8bac2e11",
   "metadata": {},
   "outputs": [],
   "source": [
    "from IPython.display import display, HTML\n",
    "\n",
    "display(HTML(response)) \n"
   ]
  },
  {
   "cell_type": "markdown",
   "id": "16e89be0",
   "metadata": {},
   "source": [
    "预期输出是一个带有表格的 html 网页\n",
    "\n",
    "一个非常好看的椅子的描述。结构、材料、产品尺寸。\n",
    "\n",
    "哦，看起来我漏掉了最多50个单词的使用说明，所以这有点长。如果你想进行调整，你可以暂停视频，要求它更简洁，然后重新生成，看看你会得到什么结果。"
   ]
  },
  {
   "cell_type": "markdown",
   "id": "d20460d4",
   "metadata": {},
   "source": [
    "## 3.5 小结\n",
    "\n",
    "我希望你从这段视频中了解到，提示开发是一个迭代的过程。\n",
    "\n",
    "尝试一些东西，看看它有哪些地方还不能满足你的要求，然后考虑如何更清晰地描述你的提示指令。或者在某些情况下，考虑如何给模型更多的思考空间，让它更接近你想要的结果。\n",
    "\n",
    "我认为，成为一名好的提示工程师的关键，重要的不是知道多少完美的提示，而是使用一个良好的迭代流程来开发提示，使应用更加高效。\n",
    "\n",
    "在这个视频中，我只是用一个例子说明如何迭代开发提示。对于更复杂的应用程序，有时你会有很多例子，例如有10个、50个甚至100个信息表的列表，需要迭代地开发一个提示，并根据大量案例对其进行评估。\n",
    "\n",
    "对于大多数应用程序的早期开发，许多人会像我只有只用一个例子进行开发。对于更成熟的应用程序来说，有时根据一组更大的例子来评估提示可能会很有用，比如在几十份信息表上测试不同的提示，看看在多份信息表上的平均或最差情况的性能如何。但通常来说，只有当应用程序更加成熟时，你才会这样做，而且你必须有这些指标来推动最后几步的快速改进。\n",
    "\n",
    "因此，请使用 Jupyter Notebook 的示例，尝试改变不同的提示，看看你会得到什么结果。\n",
    "\n",
    "接下来，让我们继续看下一个视频，我们将讨论大型语言模型在软件应用中的一个非常普遍的用途，也就是总结文本的摘要任务。"
   ]
  }
 ],
 "metadata": {
  "kernelspec": {
   "display_name": "Python 3",
   "language": "python",
   "name": "python3"
  },
  "language_info": {
   "codemirror_mode": {
    "name": "ipython",
    "version": 3
   },
   "file_extension": ".py",
   "mimetype": "text/x-python",
   "name": "python",
   "nbconvert_exporter": "python",
   "pygments_lexer": "ipython3",
   "version": "3.8.10"
  }
 },
 "nbformat": 4,
 "nbformat_minor": 5
}
